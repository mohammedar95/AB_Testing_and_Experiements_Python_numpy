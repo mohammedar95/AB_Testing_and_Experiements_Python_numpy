{
 "cells": [
  {
   "cell_type": "code",
   "execution_count": 1,
   "metadata": {},
   "outputs": [],
   "source": [
    "%matplotlib inline\n",
    "import matplotlib\n",
    "import numpy as np\n",
    "import matplotlib.pyplot as plt\n",
    "import seaborn as sns\n",
    "from mlxtend.evaluate import permutation_test"
   ]
  },
  {
   "cell_type": "code",
   "execution_count": 2,
   "metadata": {},
   "outputs": [],
   "source": [
    "# pip install mlxtend"
   ]
  },
  {
   "cell_type": "code",
   "execution_count": 3,
   "metadata": {},
   "outputs": [],
   "source": [
    "import pandas as pd\n",
    "import numpy as np"
   ]
  },
  {
   "cell_type": "markdown",
   "metadata": {},
   "source": [
    "# Potential Outcomes\n"
   ]
  },
  {
   "cell_type": "markdown",
   "metadata": {},
   "source": [
    "## The Data\n",
    "\n",
    "### An AB Testing Approchaing using Casual Inference\n",
    "\n",
    "- 'Y1' represents total  chipotle sales for a user, had they been shown a  banner promotion\n",
    "- 'Y0' represents total  chipotle sales for a user, had they *not* been shown a banner\n",
    "\n",
    "However, in DoorDash's app, we  assume they created a production experience where they showed the banner to users within 3 miles of a Chipotle and did not show it to users further away.  \n",
    "- 'near_chipotle' is a binary flag for whether a user's home address was within 3 miles of a Chipotle\n",
    "- 'production_treatment' is a binary flag for whether the user is shown a banner promotion in DoorDash's production (or primary) app. \n",
    "- you should notice, these are identical\n"
   ]
  },
  {
   "cell_type": "markdown",
   "metadata": {},
   "source": [
    "# Simple Difference in Outcomes\n",
    "- B: Recreate what the dataset would look like when run in production. Create a variable *production_Y*, which is the observed outcome for each user. You should be able to do this with the switching equation\n",
    "- C: Calculate the *Simple Difference In Outcomes*"
   ]
  },
  {
   "cell_type": "code",
   "execution_count": 4,
   "metadata": {},
   "outputs": [
    {
     "data": {
      "text/html": [
       "<div>\n",
       "<style scoped>\n",
       "    .dataframe tbody tr th:only-of-type {\n",
       "        vertical-align: middle;\n",
       "    }\n",
       "\n",
       "    .dataframe tbody tr th {\n",
       "        vertical-align: top;\n",
       "    }\n",
       "\n",
       "    .dataframe thead th {\n",
       "        text-align: right;\n",
       "    }\n",
       "</style>\n",
       "<table border=\"1\" class=\"dataframe\">\n",
       "  <thead>\n",
       "    <tr style=\"text-align: right;\">\n",
       "      <th></th>\n",
       "      <th>near_chipotle</th>\n",
       "      <th>production_treatment</th>\n",
       "      <th>Y0</th>\n",
       "      <th>Y1</th>\n",
       "    </tr>\n",
       "  </thead>\n",
       "  <tbody>\n",
       "    <tr>\n",
       "      <th>0</th>\n",
       "      <td>1</td>\n",
       "      <td>1</td>\n",
       "      <td>12.27</td>\n",
       "      <td>23.25</td>\n",
       "    </tr>\n",
       "    <tr>\n",
       "      <th>1</th>\n",
       "      <td>1</td>\n",
       "      <td>1</td>\n",
       "      <td>14.18</td>\n",
       "      <td>25.77</td>\n",
       "    </tr>\n",
       "    <tr>\n",
       "      <th>2</th>\n",
       "      <td>1</td>\n",
       "      <td>1</td>\n",
       "      <td>12.16</td>\n",
       "      <td>19.16</td>\n",
       "    </tr>\n",
       "    <tr>\n",
       "      <th>3</th>\n",
       "      <td>1</td>\n",
       "      <td>1</td>\n",
       "      <td>13.99</td>\n",
       "      <td>24.38</td>\n",
       "    </tr>\n",
       "    <tr>\n",
       "      <th>4</th>\n",
       "      <td>1</td>\n",
       "      <td>1</td>\n",
       "      <td>14.84</td>\n",
       "      <td>25.21</td>\n",
       "    </tr>\n",
       "  </tbody>\n",
       "</table>\n",
       "</div>"
      ],
      "text/plain": [
       "   near_chipotle  production_treatment     Y0     Y1\n",
       "0              1                     1  12.27  23.25\n",
       "1              1                     1  14.18  25.77\n",
       "2              1                     1  12.16  19.16\n",
       "3              1                     1  13.99  24.38\n",
       "4              1                     1  14.84  25.21"
      ]
     },
     "execution_count": 4,
     "metadata": {},
     "output_type": "execute_result"
    }
   ],
   "source": [
    "# A\n",
    "door= pd.read_csv(\"week_1_potential_outcomes.csv\").drop(columns=\"Unnamed: 0\")\n",
    "door.head()"
   ]
  },
  {
   "cell_type": "code",
   "execution_count": 5,
   "metadata": {},
   "outputs": [
    {
     "data": {
      "text/html": [
       "<div>\n",
       "<style scoped>\n",
       "    .dataframe tbody tr th:only-of-type {\n",
       "        vertical-align: middle;\n",
       "    }\n",
       "\n",
       "    .dataframe tbody tr th {\n",
       "        vertical-align: top;\n",
       "    }\n",
       "\n",
       "    .dataframe thead th {\n",
       "        text-align: right;\n",
       "    }\n",
       "</style>\n",
       "<table border=\"1\" class=\"dataframe\">\n",
       "  <thead>\n",
       "    <tr style=\"text-align: right;\">\n",
       "      <th></th>\n",
       "      <th>near_chipotle</th>\n",
       "      <th>production_treatment</th>\n",
       "      <th>Y0</th>\n",
       "      <th>Y1</th>\n",
       "      <th>production_Y</th>\n",
       "    </tr>\n",
       "  </thead>\n",
       "  <tbody>\n",
       "    <tr>\n",
       "      <th>0</th>\n",
       "      <td>1</td>\n",
       "      <td>1</td>\n",
       "      <td>12.27</td>\n",
       "      <td>23.25</td>\n",
       "      <td>23.25</td>\n",
       "    </tr>\n",
       "    <tr>\n",
       "      <th>1</th>\n",
       "      <td>1</td>\n",
       "      <td>1</td>\n",
       "      <td>14.18</td>\n",
       "      <td>25.77</td>\n",
       "      <td>25.77</td>\n",
       "    </tr>\n",
       "    <tr>\n",
       "      <th>2</th>\n",
       "      <td>1</td>\n",
       "      <td>1</td>\n",
       "      <td>12.16</td>\n",
       "      <td>19.16</td>\n",
       "      <td>19.16</td>\n",
       "    </tr>\n",
       "    <tr>\n",
       "      <th>3</th>\n",
       "      <td>1</td>\n",
       "      <td>1</td>\n",
       "      <td>13.99</td>\n",
       "      <td>24.38</td>\n",
       "      <td>24.38</td>\n",
       "    </tr>\n",
       "    <tr>\n",
       "      <th>4</th>\n",
       "      <td>1</td>\n",
       "      <td>1</td>\n",
       "      <td>14.84</td>\n",
       "      <td>25.21</td>\n",
       "      <td>25.21</td>\n",
       "    </tr>\n",
       "  </tbody>\n",
       "</table>\n",
       "</div>"
      ],
      "text/plain": [
       "   near_chipotle  production_treatment     Y0     Y1  production_Y\n",
       "0              1                     1  12.27  23.25         23.25\n",
       "1              1                     1  14.18  25.77         25.77\n",
       "2              1                     1  12.16  19.16         19.16\n",
       "3              1                     1  13.99  24.38         24.38\n",
       "4              1                     1  14.84  25.21         25.21"
      ]
     },
     "execution_count": 5,
     "metadata": {},
     "output_type": "execute_result"
    }
   ],
   "source": [
    "# B\n",
    "door[\"production_Y\"] = door[\"production_treatment\"]*door[\"Y1\"] + (1-door[\"production_treatment\"])*door[\"Y0\"]\n",
    "door.head()"
   ]
  },
  {
   "cell_type": "code",
   "execution_count": 8,
   "metadata": {},
   "outputs": [
    {
     "name": "stdout",
     "output_type": "stream",
     "text": [
      "Simple Difference In Outcomes: 11.53\n"
     ]
    }
   ],
   "source": [
    "# C Simple Difference In Outcomes\n",
    "\n",
    "SDO = door.production_Y[door.production_treatment ==1].mean() - door.production_Y[door.production_treatment ==0].mean()\n",
    "\n",
    "print(\"Simple Difference In Outcomes:\",round(SDO,2))"
   ]
  },
  {
   "cell_type": "markdown",
   "metadata": {},
   "source": [
    "\n",
    "# Selection Bias"
   ]
  },
  {
   "cell_type": "code",
   "execution_count": 13,
   "metadata": {},
   "outputs": [],
   "source": [
    "Selection_Bias = door.Y0[door.production_treatment ==1].mean() - door.Y0[door.production_treatment ==0].mean() "
   ]
  },
  {
   "cell_type": "markdown",
   "metadata": {},
   "source": [
    "# Average Treatment on Treated"
   ]
  },
  {
   "cell_type": "code",
   "execution_count": 22,
   "metadata": {},
   "outputs": [
    {
     "data": {
      "text/plain": [
       "7.454499999999992"
      ]
     },
     "execution_count": 22,
     "metadata": {},
     "output_type": "execute_result"
    }
   ],
   "source": [
    "ATT = door.Y1[door.production_treatment ==1].mean() - door.Y0[door.production_treatment ==1].mean() \n",
    "ATT"
   ]
  },
  {
   "cell_type": "markdown",
   "metadata": {},
   "source": [
    "# Average Treatment on Untreated"
   ]
  },
  {
   "cell_type": "code",
   "execution_count": 21,
   "metadata": {},
   "outputs": [
    {
     "data": {
      "text/plain": [
       "2.860500000000002"
      ]
     },
     "execution_count": 21,
     "metadata": {},
     "output_type": "execute_result"
    }
   ],
   "source": [
    "ATU = door.Y1[door.production_treatment ==0].mean() - door.Y0[door.production_treatment ==0].mean() \n",
    "ATU"
   ]
  },
  {
   "cell_type": "markdown",
   "metadata": {},
   "source": [
    "# Heterogenus Treatment Effect Bias"
   ]
  },
  {
   "cell_type": "code",
   "execution_count": 19,
   "metadata": {},
   "outputs": [],
   "source": [
    "# of people treated / # of people in data set\n",
    "pi = door.production_treatment[door.production_treatment ==1].sum()/door.shape[0]\n",
    "# E\n",
    "HTE = (1-pi)*(ATT-ATU)"
   ]
  },
  {
   "cell_type": "code",
   "execution_count": 20,
   "metadata": {},
   "outputs": [
    {
     "name": "stdout",
     "output_type": "stream",
     "text": [
      "Selection Bias:\n",
      " 4.08 \n",
      "Heterogeneous Treatment Effect Bias\n",
      " 2.3 \n",
      "Simple Difference in Outcome\n",
      " 11.53\n"
     ]
    }
   ],
   "source": [
    "print(\"Selection Bias:\\n\",round(Selection_Bias,2),\n",
    "     \"\\nHeterogeneous Treatment Effect Bias\\n\", round(HTE,2),\n",
    "     \"\\nSimple Difference in Outcome\\n\", round(SDO,2))"
   ]
  },
  {
   "cell_type": "markdown",
   "metadata": {},
   "source": [
    "\n",
    "# Calculate the Average Treatment Effect"
   ]
  },
  {
   "cell_type": "code",
   "execution_count": 23,
   "metadata": {},
   "outputs": [
    {
     "name": "stdout",
     "output_type": "stream",
     "text": [
      "Average Treatment Effect: 5.16 \n",
      "Average Treatment Effect - Method 2: 5.16\n"
     ]
    }
   ],
   "source": [
    "# F\n",
    "# SDO = ATE + Selection Bias + HTE\n",
    "ATE = SDO - Selection_Bias - HTE\n",
    "# F another method\n",
    "ATE2 = door.Y1.mean() - door.Y0.mean()\n",
    "\n",
    "\n",
    "\n",
    "print(\"Average Treatment Effect:\",round(ATE,2),\n",
    "     \"\\nAverage Treatment Effect - Method 2:\",round(ATE2,2))"
   ]
  },
  {
   "cell_type": "code",
   "execution_count": 35,
   "metadata": {},
   "outputs": [
    {
     "data": {
      "text/plain": [
       "True"
      ]
     },
     "execution_count": 35,
     "metadata": {},
     "output_type": "execute_result"
    }
   ],
   "source": [
    "SDO == ATE + Selection_Bias + HTE\n"
   ]
  },
  {
   "cell_type": "markdown",
   "metadata": {},
   "source": [
    "# Simulate an Experiment\n",
    "If DoorDash ran a randomized experiment, they would have a different data set to observe. Now create what a dataset would look like had the experiment been run\n",
    "- A: Create a new variable *experiment_treatment*, where a random 50% percent of users are treated with the Banner Promotion, and the other 50% are not\n",
    "- B: Create a new variable *experiment_y* which is the observed outcome for each user from this hypothetical experiment. \n",
    "- C: Calculate the average treatment effect from this experiment\n",
    "- D: Repeat this calculation 1000 times. Plot a histogram of the estimated average treatment effects. What is the mean and variance of the average treatment effect? (You will be asked to used the reuse the analysis you did in 2B and 2C in problem 3. You may want to make a copy of this dataframe or create a new variable to handle your simulations). "
   ]
  },
  {
   "cell_type": "code",
   "execution_count": 24,
   "metadata": {},
   "outputs": [
    {
     "name": "stdout",
     "output_type": "stream",
     "text": [
      "Average Treatment Effect 5.6\n"
     ]
    }
   ],
   "source": [
    "# 2A\n",
    "door_sim = door.copy()\n",
    "door_sim[\"experiment_treatment\"] = np.random.choice([0,1], p=(.5,.5), size =40)\n",
    "\n",
    "# 2B\n",
    "door_sim[\"experiment_y\"] = door_sim[\"experiment_treatment\"]*door_sim[\"Y1\"] + (1-door_sim[\"experiment_treatment\"])*door_sim[\"Y0\"]\n",
    "\n",
    "## 2C \n",
    "ATE_exp = door_sim.experiment_y[door_sim.experiment_treatment ==1].mean() - door_sim.experiment_y[door_sim.experiment_treatment ==0].mean()\n",
    "\n",
    "print(\"Average Treatment Effect\", round(ATE_exp,2))"
   ]
  },
  {
   "cell_type": "code",
   "execution_count": null,
   "metadata": {},
   "outputs": [],
   "source": []
  },
  {
   "cell_type": "code",
   "execution_count": 25,
   "metadata": {},
   "outputs": [
    {
     "name": "stdout",
     "output_type": "stream",
     "text": [
      "The ATE Mean is: 5.21 \n",
      "The Standard Deviation is: 1.13 \n",
      "The Variance is: 1.28\n"
     ]
    },
    {
     "data": {
      "image/png": "[encoded data removed]",
      "text/plain": [
       "<Figure size 432x288 with 1 Axes>"
      ]
     },
     "metadata": {
      "needs_background": "light"
     },
     "output_type": "display_data"
    }
   ],
   "source": [
    "# 2D\n",
    "ate = []\n",
    "\n",
    "for i in range(1000):\n",
    "    door_sim[\"experiment_treatment\"] = np.random.choice([0,1], p=(.5,.5), size =40)\n",
    "    door_sim[\"experiment_y\"] = door_sim[\"experiment_treatment\"]*door_sim[\"Y1\"] + (1-door_sim[\"experiment_treatment\"])*door_sim[\"Y0\"]\n",
    "    ATE_sim = door_sim.experiment_y[door_sim.experiment_treatment ==1].mean() - door_sim.experiment_y[door_sim.experiment_treatment ==0].mean()\n",
    "    ate.append(ATE_sim)\n",
    "\n",
    "    \n",
    "sns.histplot(ate, bins=20, kde=True)\n",
    "\n",
    "print(\"The ATE Mean is:\", round(np.mean(ate),2),\n",
    "      \"\\nThe Standard Deviation is:\", round(np.std(ate),2),\n",
    "      \"\\nThe Variance is:\", round(np.var(ate),2))"
   ]
  },
  {
   "cell_type": "markdown",
   "metadata": {},
   "source": [
    "Permutation Testing\n",
    "\n",
    "Go back to a dataset like the one you created in 2a and 2b, with one experimental treatment and one experimental outcome. We now want to introduce a new concept called randomization based inference. In this, we compare the outcomes of an experiment against a null hypotheses (called the sharp null) that there is no treatment effect for any individual. \n",
    "\n",
    "Under this null hypothesis, we would have expected to see the observed results (*experiment_y*) no matter how treatment was assigned. So we can simulate other, hypothetical experiments,  without changing the outcomes to  calculate average treatment effects. You can read about this approach in *Causal Inference: The Mixtape\" (pages 148-163)\n",
    "\n",
    "- A: Create a new variable *permuted_treatement* with a 50% of being treated and a 50% chance of not being treated\n",
    "- B: Calculate the average treatment effect under the sharp null hypothesis, using experiment_y and permuted_treatement\n",
    "- C: Repeat this 1000 times. What is the average of the simulated average treatment effect under the null hypothesis. Plot a histogram of the outcomes\n",
    "- D: What was the probability of seeing a treatment effect as large the treatment effect calculated in 2C. \n",
    "- E: In your words, explain what the probability calculated in 3D means"
   ]
  },
  {
   "cell_type": "code",
   "execution_count": 28,
   "metadata": {},
   "outputs": [
    {
     "data": {
      "text/html": [
       "<div>\n",
       "<style scoped>\n",
       "    .dataframe tbody tr th:only-of-type {\n",
       "        vertical-align: middle;\n",
       "    }\n",
       "\n",
       "    .dataframe tbody tr th {\n",
       "        vertical-align: top;\n",
       "    }\n",
       "\n",
       "    .dataframe thead th {\n",
       "        text-align: right;\n",
       "    }\n",
       "</style>\n",
       "<table border=\"1\" class=\"dataframe\">\n",
       "  <thead>\n",
       "    <tr style=\"text-align: right;\">\n",
       "      <th></th>\n",
       "      <th>near_chipotle</th>\n",
       "      <th>production_treatment</th>\n",
       "      <th>Y0</th>\n",
       "      <th>Y1</th>\n",
       "      <th>production_Y</th>\n",
       "      <th>experiment_treatment</th>\n",
       "      <th>experiment_y</th>\n",
       "      <th>permuted_treatement</th>\n",
       "    </tr>\n",
       "  </thead>\n",
       "  <tbody>\n",
       "    <tr>\n",
       "      <th>0</th>\n",
       "      <td>1</td>\n",
       "      <td>1</td>\n",
       "      <td>12.27</td>\n",
       "      <td>23.25</td>\n",
       "      <td>23.25</td>\n",
       "      <td>0</td>\n",
       "      <td>12.27</td>\n",
       "      <td>1</td>\n",
       "    </tr>\n",
       "    <tr>\n",
       "      <th>1</th>\n",
       "      <td>1</td>\n",
       "      <td>1</td>\n",
       "      <td>14.18</td>\n",
       "      <td>25.77</td>\n",
       "      <td>25.77</td>\n",
       "      <td>1</td>\n",
       "      <td>25.77</td>\n",
       "      <td>1</td>\n",
       "    </tr>\n",
       "    <tr>\n",
       "      <th>2</th>\n",
       "      <td>1</td>\n",
       "      <td>1</td>\n",
       "      <td>12.16</td>\n",
       "      <td>19.16</td>\n",
       "      <td>19.16</td>\n",
       "      <td>1</td>\n",
       "      <td>19.16</td>\n",
       "      <td>0</td>\n",
       "    </tr>\n",
       "    <tr>\n",
       "      <th>3</th>\n",
       "      <td>1</td>\n",
       "      <td>1</td>\n",
       "      <td>13.99</td>\n",
       "      <td>24.38</td>\n",
       "      <td>24.38</td>\n",
       "      <td>1</td>\n",
       "      <td>24.38</td>\n",
       "      <td>1</td>\n",
       "    </tr>\n",
       "    <tr>\n",
       "      <th>4</th>\n",
       "      <td>1</td>\n",
       "      <td>1</td>\n",
       "      <td>14.84</td>\n",
       "      <td>25.21</td>\n",
       "      <td>25.21</td>\n",
       "      <td>0</td>\n",
       "      <td>14.84</td>\n",
       "      <td>1</td>\n",
       "    </tr>\n",
       "  </tbody>\n",
       "</table>\n",
       "</div>"
      ],
      "text/plain": [
       "   near_chipotle  production_treatment     Y0     Y1  production_Y  \\\n",
       "0              1                     1  12.27  23.25         23.25   \n",
       "1              1                     1  14.18  25.77         25.77   \n",
       "2              1                     1  12.16  19.16         19.16   \n",
       "3              1                     1  13.99  24.38         24.38   \n",
       "4              1                     1  14.84  25.21         25.21   \n",
       "\n",
       "   experiment_treatment  experiment_y  permuted_treatement  \n",
       "0                     0         12.27                    1  \n",
       "1                     1         25.77                    1  \n",
       "2                     1         19.16                    0  \n",
       "3                     1         24.38                    1  \n",
       "4                     0         14.84                    1  "
      ]
     },
     "execution_count": 28,
     "metadata": {},
     "output_type": "execute_result"
    }
   ],
   "source": [
    "door_sim.head()"
   ]
  },
  {
   "cell_type": "code",
   "execution_count": 34,
   "metadata": {},
   "outputs": [
    {
     "name": "stdout",
     "output_type": "stream",
     "text": [
      "\n",
      "ATE 0.07\n",
      "The ATE Mean is: 0.03 \n",
      "The Variance is: 2.02\n"
     ]
    },
    {
     "data": {
      "image/png": "[encoded data removed]",
      "text/plain": [
       "<Figure size 432x288 with 1 Axes>"
      ]
     },
     "metadata": {
      "needs_background": "light"
     },
     "output_type": "display_data"
    }
   ],
   "source": [
    "# 3A\n",
    "door_sim[\"permuted_treatement\"] = np.random.choice([0,1], p=(.5,.5), size =40)\n",
    "\n",
    "# 3B\n",
    "ATE_per = door_sim.experiment_y[door_sim.permuted_treatement ==1].mean() - door_sim.experiment_y[door_sim.permuted_treatement ==0].mean()\n",
    "print(\"\\nATE\", round(ATE_per,2))\n",
    "\n",
    "# 3C\n",
    "ate_per = []\n",
    "\n",
    "for i in range(1000):\n",
    "    door_sim[\"permuted_treatement\"] = np.random.choice([0,1], p=(.5,.5), size =40)\n",
    "    ATE_per = door_sim.experiment_y[door_sim.permuted_treatement ==1].mean() - door_sim.experiment_y[door_sim.permuted_treatement ==0].mean()\n",
    "    ate_per.append(ATE_per)\n",
    "sns.histplot(ate_per, bins=20, kde=True)\n",
    "print(\"The ATE Mean is:\", round(np.mean(ate_per),2),\n",
    "      \"\\nThe Variance is:\", round(np.var(ate_per),2))"
   ]
  },
  {
   "cell_type": "code",
   "execution_count": 30,
   "metadata": {},
   "outputs": [
    {
     "data": {
      "text/html": [
       "<div>\n",
       "<style scoped>\n",
       "    .dataframe tbody tr th:only-of-type {\n",
       "        vertical-align: middle;\n",
       "    }\n",
       "\n",
       "    .dataframe tbody tr th {\n",
       "        vertical-align: top;\n",
       "    }\n",
       "\n",
       "    .dataframe thead th {\n",
       "        text-align: right;\n",
       "    }\n",
       "</style>\n",
       "<table border=\"1\" class=\"dataframe\">\n",
       "  <thead>\n",
       "    <tr style=\"text-align: right;\">\n",
       "      <th></th>\n",
       "      <th>near_chipotle</th>\n",
       "      <th>production_treatment</th>\n",
       "      <th>Y0</th>\n",
       "      <th>Y1</th>\n",
       "      <th>production_Y</th>\n",
       "      <th>experiment_treatment</th>\n",
       "      <th>experiment_y</th>\n",
       "      <th>permuted_treatement</th>\n",
       "    </tr>\n",
       "  </thead>\n",
       "  <tbody>\n",
       "    <tr>\n",
       "      <th>23</th>\n",
       "      <td>0</td>\n",
       "      <td>0</td>\n",
       "      <td>9.11</td>\n",
       "      <td>11.37</td>\n",
       "      <td>9.11</td>\n",
       "      <td>0</td>\n",
       "      <td>9.11</td>\n",
       "      <td>0</td>\n",
       "    </tr>\n",
       "    <tr>\n",
       "      <th>20</th>\n",
       "      <td>0</td>\n",
       "      <td>0</td>\n",
       "      <td>9.32</td>\n",
       "      <td>14.19</td>\n",
       "      <td>9.32</td>\n",
       "      <td>0</td>\n",
       "      <td>9.32</td>\n",
       "      <td>0</td>\n",
       "    </tr>\n",
       "    <tr>\n",
       "      <th>38</th>\n",
       "      <td>0</td>\n",
       "      <td>0</td>\n",
       "      <td>9.44</td>\n",
       "      <td>9.81</td>\n",
       "      <td>9.44</td>\n",
       "      <td>0</td>\n",
       "      <td>9.44</td>\n",
       "      <td>0</td>\n",
       "    </tr>\n",
       "    <tr>\n",
       "      <th>29</th>\n",
       "      <td>0</td>\n",
       "      <td>0</td>\n",
       "      <td>9.74</td>\n",
       "      <td>11.83</td>\n",
       "      <td>9.74</td>\n",
       "      <td>0</td>\n",
       "      <td>9.74</td>\n",
       "      <td>0</td>\n",
       "    </tr>\n",
       "    <tr>\n",
       "      <th>30</th>\n",
       "      <td>0</td>\n",
       "      <td>0</td>\n",
       "      <td>10.00</td>\n",
       "      <td>8.30</td>\n",
       "      <td>10.00</td>\n",
       "      <td>0</td>\n",
       "      <td>10.00</td>\n",
       "      <td>0</td>\n",
       "    </tr>\n",
       "  </tbody>\n",
       "</table>\n",
       "</div>"
      ],
      "text/plain": [
       "    near_chipotle  production_treatment     Y0     Y1  production_Y  \\\n",
       "23              0                     0   9.11  11.37          9.11   \n",
       "20              0                     0   9.32  14.19          9.32   \n",
       "38              0                     0   9.44   9.81          9.44   \n",
       "29              0                     0   9.74  11.83          9.74   \n",
       "30              0                     0  10.00   8.30         10.00   \n",
       "\n",
       "    experiment_treatment  experiment_y  permuted_treatement  \n",
       "23                     0          9.11                    0  \n",
       "20                     0          9.32                    0  \n",
       "38                     0          9.44                    0  \n",
       "29                     0          9.74                    0  \n",
       "30                     0         10.00                    0  "
      ]
     },
     "execution_count": 30,
     "metadata": {},
     "output_type": "execute_result"
    }
   ],
   "source": [
    "door_sim = door_sim.sort_values(['permuted_treatement', 'experiment_y'])\n",
    "door_sim.head()"
   ]
  },
  {
   "cell_type": "markdown",
   "metadata": {},
   "source": [
    "#### 3D\n",
    "The percentage of having same treatment effect as larage as the once in 2C is very small since the more permuted we test the loweer the average. we can see the p value is 0.34 which might be that our treatment in 2c is less than 3c."
   ]
  },
  {
   "cell_type": "code",
   "execution_count": 31,
   "metadata": {},
   "outputs": [
    {
     "name": "stdout",
     "output_type": "stream",
     "text": [
      "treatment % of Permuted: 0.6\n",
      "Treatment % of Experiement: 0.49\n",
      "difference 0.11\n",
      "P-value 0.24977502249775022\n"
     ]
    }
   ],
   "source": [
    "total_per = door_sim.experiment_y[door_sim.permuted_treatement ==1].sum()\n",
    "total_all = door_sim[\"experiment_y\"].sum()\n",
    "print(\"treatment % of Permuted:\",round(total_per/total_all,2))\n",
    "\n",
    "total_sim = door_sim.experiment_y[door_sim.experiment_treatment ==1].sum()\n",
    "print(\"Treatment % of Experiement:\",round(total_sim/total_all,2))\n",
    "print(\"difference\", round(total_per/total_all - total_sim/total_all,2))\n",
    "\n",
    "# p_value\n",
    "p_value = permutation_test(\n",
    "    door_sim.experiment_y[door_sim.permuted_treatement ==1],\n",
    "    door_sim.experiment_y[door_sim.permuted_treatement ==0],\n",
    "    method = \"approximate\",\n",
    "    num_rounds=10000,\n",
    "    seed=0)\n",
    "print(\"P-value\",p_value)"
   ]
  },
  {
   "cell_type": "markdown",
   "metadata": {},
   "source": [
    "### 3E\n",
    "I wanted to see how is each treatment changes from each experiment by weighing the values of experiemnt_y of only treated users those who did see the banner compared to same in the permuted samples. and did another simulation to calculate permutation p-value from treatment and control to estimate a probability if we have higher permuted results."
   ]
  },
  {
   "cell_type": "code",
   "execution_count": 32,
   "metadata": {},
   "outputs": [
    {
     "data": {
      "text/plain": [
       "0.13028383798267645"
      ]
     },
     "execution_count": 32,
     "metadata": {},
     "output_type": "execute_result"
    }
   ],
   "source": [
    "np.mean(ate)/40"
   ]
  },
  {
   "cell_type": "code",
   "execution_count": null,
   "metadata": {},
   "outputs": [],
   "source": []
  },
  {
   "cell_type": "code",
   "execution_count": null,
   "metadata": {},
   "outputs": [],
   "source": []
  }
 ],
 "metadata": {
  "kernelspec": {
   "display_name": "Python 3",
   "language": "python",
   "name": "python3"
  },
  "language_info": {
   "codemirror_mode": {
    "name": "ipython",
    "version": 3
   },
   "file_extension": ".py",
   "mimetype": "text/x-python",
   "name": "python",
   "nbconvert_exporter": "python",
   "pygments_lexer": "ipython3",
   "version": "3.8.5"
  }
 },
 "nbformat": 4,
 "nbformat_minor": 4
}
